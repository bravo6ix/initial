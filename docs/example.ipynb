{
    "cells": [
        {
            "cell_type": "markdown",
            "metadata": {},
            "source": [
                "# Example usage\n",
                "\n",
                "To use `initial` in a project:"
            ]
        },
        {
            "cell_type": "code",
            "execution_count": 3,
            "metadata": {},
            "outputs": [
                {
                    "name": "stdout",
                    "output_type": "stream",
                    "text": [
                        "0.1.0\n"
                    ]
                }
            ],
            "source": [
                "import initial\n",
                "\n",
                "print(initial.__version__)\n"
            ]
        },
        {
            "cell_type": "markdown",
            "metadata": {},
            "source": []
        },
        {
            "cell_type": "markdown",
            "metadata": {},
            "source": [
                "# Imports \n",
                "\n",
                "Here we will demostrate to use initial to count the words in a text file and plot the top 5 result"
            ]
        },
        {
            "cell_type": "code",
            "execution_count": 4,
            "metadata": {},
            "outputs": [
                {
                    "ename": "ImportError",
                    "evalue": "cannot import name 'plot_counts' from 'initial.plotting' (/Users/kamingau/opt/anaconda3/envs/initial/lib/python3.9/site-packages/initial/plotting.py)",
                    "output_type": "error",
                    "traceback": [
                        "\u001b[0;31m---------------------------------------------------------------------------\u001b[0m",
                        "\u001b[0;31mImportError\u001b[0m                               Traceback (most recent call last)",
                        "Cell \u001b[0;32mIn[4], line 2\u001b[0m\n\u001b[1;32m      1\u001b[0m \u001b[39mfrom\u001b[39;00m \u001b[39minitial\u001b[39;00m\u001b[39m.\u001b[39;00m\u001b[39minitial\u001b[39;00m \u001b[39mimport\u001b[39;00m count_words\n\u001b[0;32m----> 2\u001b[0m \u001b[39mfrom\u001b[39;00m \u001b[39minitial\u001b[39;00m\u001b[39m.\u001b[39;00m\u001b[39mplotting\u001b[39;00m \u001b[39mimport\u001b[39;00m plot_counts \n",
                        "\u001b[0;31mImportError\u001b[0m: cannot import name 'plot_counts' from 'initial.plotting' (/Users/kamingau/opt/anaconda3/envs/initial/lib/python3.9/site-packages/initial/plotting.py)"
                    ]
                }
            ],
            "source": [
                "from initial.initial import count_words\n",
                "from initial.plotting import plot_counts "
            ]
        },
        {
            "cell_type": "markdown",
            "metadata": {},
            "source": [
                "# Create a text file\n",
                "\n",
                "We'll first create a text file to work with using a famous quote Einstein:"
            ]
        },
        {
            "cell_type": "code",
            "execution_count": null,
            "metadata": {},
            "outputs": [],
            "source": [
                "quote = \"\"\"Insanity: doing the same thing over and over again and expecting different results.\"\"\"\n",
                "with open ('enstein.txt', 'w') as f:\n",
                "    f.write(quote)"
            ]
        },
        {
            "cell_type": "markdown",
            "metadata": {},
            "source": [
                "# Plot works\n",
                "We can now plot the result "
            ]
        },
        {
            "cell_type": "code",
            "execution_count": null,
            "metadata": {},
            "outputs": [],
            "source": [
                "fig = plot_words(counts, n=5)"
            ]
        }
    ],
    "metadata": {
        "kernelspec": {
            "display_name": "Python 3",
            "language": "python",
            "name": "python3"
        },
        "language_info": {
            "codemirror_mode": {
                "name": "ipython",
                "version": 3
            },
            "file_extension": ".py",
            "mimetype": "text/x-python",
            "name": "python",
            "nbconvert_exporter": "python",
            "pygments_lexer": "ipython3",
            "version": "3.9.17"
        }
    },
    "nbformat": 4,
    "nbformat_minor": 4
}
