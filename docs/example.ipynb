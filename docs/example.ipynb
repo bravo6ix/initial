{
    "cells": [
        {
            "cell_type": "markdown",
            "metadata": {},
            "source": [
                "# Example usage\n",
                "\n",
                "To use `initial` in a project:"
            ]
        },
        {
            "cell_type": "code",
            "execution_count": 8,
            "metadata": {},
            "outputs": [
                {
                    "name": "stdout",
                    "output_type": "stream",
                    "text": [
                        "0.1.0\n"
                    ]
                }
            ],
            "source": [
                "import initial\n",
                "\n",
                "print(initial.__version__)\n"
            ]
        },
        {
            "cell_type": "markdown",
            "metadata": {},
            "source": []
        },
        {
            "cell_type": "markdown",
            "metadata": {},
            "source": [
                "# Imports \n",
                "\n",
                "Here we will demostrate to use initial to count the words in a text file and plot the top 5 result"
            ]
        },
        {
            "cell_type": "code",
            "execution_count": 9,
            "metadata": {},
            "outputs": [],
            "source": [
                "from initial.initial import count_words\n",
                "from initial.plotting import plot_words "
            ]
        },
        {
            "cell_type": "markdown",
            "metadata": {},
            "source": [
                "# Create a text file\n",
                "\n",
                "We'll first create a text file to work with using a famous quote Einstein:"
            ]
        },
        {
            "cell_type": "code",
            "execution_count": 10,
            "metadata": {},
            "outputs": [],
            "source": [
                "quote = \"\"\"Insanity: doing the same thing over and over again and expecting different results.\"\"\"\n",
                "with open ('enstein.txt', 'w') as f:\n",
                "    f.write(quote)"
            ]
        },
        {
            "cell_type": "markdown",
            "metadata": {},
            "source": [
                "# Count words\n",
                "\n",
                "We can  count the words in our text file using the `count_words()` function. Note that this function removes punctuation and makes all words lowercase before counting."
            ]
        },
        {
            "cell_type": "code",
            "execution_count": 11,
            "metadata": {},
            "outputs": [
                {
                    "name": "stdout",
                    "output_type": "stream",
                    "text": [
                        "Counter({'over': 2, 'and': 2, 'insanity': 1, 'doing': 1, 'the': 1, 'same': 1, 'thing': 1, 'again': 1, 'expecting': 1, 'different': 1, 'results': 1})\n"
                    ]
                }
            ],
            "source": [
                "counts = count_words(\"enstein.txt\")\n",
                "print(counts)"
            ]
        },
        {
            "cell_type": "markdown",
            "metadata": {},
            "source": [
                "# Plot works\n",
                "We can now plot the result "
            ]
        },
        {
            "cell_type": "code",
            "execution_count": 12,
            "metadata": {},
            "outputs": [
                {
                    "data": {
                        "image/png": "[encoded data removed]",
                        "text/plain": [
                            "<Figure size 640x480 with 1 Axes>"
                        ]
                    },
                    "metadata": {},
                    "output_type": "display_data"
                }
            ],
            "source": [
                "fig = plot_words(counts, n=5)"
            ]
        }
    ],
    "metadata": {
        "kernelspec": {
            "display_name": "Python 3",
            "language": "python",
            "name": "python3"
        },
        "language_info": {
            "codemirror_mode": {
                "name": "ipython",
                "version": 3
            },
            "file_extension": ".py",
            "mimetype": "text/x-python",
            "name": "python",
            "nbconvert_exporter": "python",
            "pygments_lexer": "ipython3",
            "version": "3.9.17"
        }
    },
    "nbformat": 4,
    "nbformat_minor": 4
}
